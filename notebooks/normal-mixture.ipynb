{
 "cells": [
  {
   "cell_type": "code",
   "execution_count": 1,
   "metadata": {},
   "outputs": [],
   "source": [
    "import matplotlib.pyplot as plt\n",
    "import numpy as np\n",
    "from scipy.stats import norm\n",
    "from scipy.special import factorial2\n",
    "import seaborn as sns\n",
    "from viabel import all_bounds\n",
    "from experiments import print_bounds"
   ]
  },
  {
   "cell_type": "markdown",
   "metadata": {},
   "source": [
    "# Normal Mixture Example\n",
    "\n",
    "Here is a toy example where we use the approximating distribution\n",
    "$$q = \\mathcal{N}(0, 2)$$\n",
    "for the \"true\" distribution\n",
    "$$p = 0.5  \\mathcal{N}(-1,1) + 0.5  \\mathcal{N}(1,1),$$\n",
    "where $\\mathcal{N}(\\mu, \\sigma^2)$ denotes a normal distribution with mean $\\mu$ and variance $\\sigma^2$. \n",
    "Note that both distributions have mean 0 and variance 2. \n",
    "\n",
    "First, we construct functions to compute the log densities of $p$ and $q$"
   ]
  },
  {
   "cell_type": "code",
   "execution_count": 2,
   "metadata": {},
   "outputs": [],
   "source": [
    "q_var = 5\n",
    "q = norm(scale=np.sqrt(q_var))\n",
    "log_q = q.logpdf\n",
    "log_p = lambda x: np.logaddexp(norm.logpdf(x,loc=-2), norm.logpdf(x,loc=2)) - np.log(2)"
   ]
  },
  {
   "cell_type": "markdown",
   "metadata": {},
   "source": [
    "Here is a plot of the densities of $p$ and $q$:"
   ]
  },
  {
   "cell_type": "code",
   "execution_count": 3,
   "metadata": {},
   "outputs": [
    {
     "data": {
      "image/png": "[encoded data removed]",
      "text/plain": [
       "<Figure size 432x288 with 1 Axes>"
      ]
     },
     "metadata": {},
     "output_type": "display_data"
    }
   ],
   "source": [
    "sns.set_style('white')\n",
    "sns.set_context('notebook', font_scale=2, rc={'lines.linewidth': 2})\n",
    "locs = np.linspace(-7, 7, 200)\n",
    "plt.plot(locs, np.exp(log_p(locs)), label='p')\n",
    "plt.plot(locs, np.exp(log_q(locs)), label='q')\n",
    "plt.legend(bbox_to_anchor=(1.1, 1.05))\n",
    "sns.despine()\n",
    "plt.show()"
   ]
  },
  {
   "cell_type": "markdown",
   "metadata": {},
   "source": [
    "Next, we construct functions to sample from $q$ and to compute, for even $\\alpha \\ge 2$, the central moments\n",
    "$$\\{\\mathbb E_{X \\sim q}(X^\\alpha)\\}^{1/\\alpha} = 5^{1/2} \\{(\\alpha-1)!!\\}^{1/\\alpha},$$\n",
    "which is a special case of the more general fact that \n",
    "$$\\mathbb E_{X \\sim \\mathcal{N}(\\mu, \\sigma^2)}\\{(X-\\mu)^\\alpha\\} = (\\alpha-1)!!\\sigma^\\alpha.$$"
   ]
  },
  {
   "cell_type": "code",
   "execution_count": 4,
   "metadata": {},
   "outputs": [],
   "source": [
    "sample_q = q.rvs\n",
    "q_moment_bound_fun = lambda order: factorial2(order-1)**(1/order) * np.sqrt(q_var)"
   ]
  },
  {
   "cell_type": "markdown",
   "metadata": {},
   "source": [
    "Finally, we sample from $q$ and compute the log weights"
   ]
  },
  {
   "cell_type": "code",
   "execution_count": 5,
   "metadata": {},
   "outputs": [],
   "source": [
    "n_samples = 50000\n",
    "np.random.seed(918)\n",
    "samples = sample_q(n_samples)\n",
    "log_weights = log_p(samples) - log_q(samples)"
   ]
  },
  {
   "cell_type": "markdown",
   "metadata": {},
   "source": [
    "We can compute the bounds on the Wasserstein distances, 2-divergence, and mean/standard deviation/variance errors in many different ways, depending on what information is available.\n",
    "\n",
    "The simplest way is to use only the log weights and the samples:"
   ]
  },
  {
   "cell_type": "code",
   "execution_count": 6,
   "metadata": {},
   "outputs": [
    {
     "name": "stdout",
     "output_type": "stream",
     "text": [
      "Bounds on...\n",
      "  2-Wasserstein   6.08\n",
      "  2-divergence    0.768\n",
      "  mean error      4.79\n",
      "  stdev error     6.08\n",
      "  sqrt cov error  10.1\n",
      "  cov error       101\n"
     ]
    }
   ],
   "source": [
    "print_bounds(all_bounds(log_weights, samples))"
   ]
  },
  {
   "cell_type": "markdown",
   "metadata": {},
   "source": [
    "Currently there is a warning when the Monte Carlo error is estimated to be greater than 0.01. \n",
    "\n",
    "We can obtain tighter, more accurate bounds using other available information.\n",
    "For example, we can pass in the known variance of $q$ rather than getting a Monte Carlo estimate.\n",
    "Since we also know that the log normalization constant for our `log_p` function is zero, we can get a tighter bound by using this information."
   ]
  },
  {
   "cell_type": "code",
   "execution_count": 7,
   "metadata": {},
   "outputs": [
    {
     "name": "stdout",
     "output_type": "stream",
     "text": [
      "Bounds on...\n",
      "  2-Wasserstein   4.41\n",
      "  2-divergence    0.277\n",
      "  mean error      2.52\n",
      "  stdev error     4.41\n",
      "  sqrt cov error  7.66\n",
      "  cov error       58.6\n"
     ]
    }
   ],
   "source": [
    "print_bounds(all_bounds(log_weights, samples, q_var=q_var, log_norm_bound=0))"
   ]
  },
  {
   "cell_type": "markdown",
   "metadata": {},
   "source": [
    "Rather than getting a Monte Carlo estimate of the central moments of $q$, we can use a known upper bound on (or exact value for) this quantity. In this case, we use `q_moment_bound_fun`. If we pass in values for `moment_bound_fn` and `q_var`, then we don't need to include the `samples` argument. "
   ]
  },
  {
   "cell_type": "code",
   "execution_count": 8,
   "metadata": {},
   "outputs": [
    {
     "name": "stdout",
     "output_type": "stream",
     "text": [
      "Bounds on...\n",
      "  2-Wasserstein   2.72\n",
      "  2-divergence    0.768\n",
      "  mean error      2.72\n",
      "  stdev error     2.72\n",
      "  sqrt cov error  5.19\n",
      "  cov error       26.9\n"
     ]
    }
   ],
   "source": [
    "print_bounds(all_bounds(log_weights, moment_bound_fn=q_moment_bound_fun, q_var=q_var))"
   ]
  }
 ],
 "metadata": {
  "kernelspec": {
   "display_name": "temp-env",
   "language": "python",
   "name": "temp-env"
  },
  "language_info": {
   "codemirror_mode": {
    "name": "ipython",
    "version": 3
   },
   "file_extension": ".py",
   "mimetype": "text/x-python",
   "name": "python",
   "nbconvert_exporter": "python",
   "pygments_lexer": "ipython3",
   "version": "3.7.5"
  }
 },
 "nbformat": 4,
 "nbformat_minor": 2
}
