{
 "cells": [
  {
   "cell_type": "markdown",
   "metadata": {},
   "source": [
    " ## CHIVI expts on linear regression in high dimensions"
   ]
  },
  {
   "cell_type": "code",
   "execution_count": 2,
   "metadata": {},
   "outputs": [],
   "source": [
    "import sys, os\n",
    "sys.path.append('..')\n",
    "sys.path.append('../..')\n",
    "import autograd\n",
    "import pickle\n",
    "import pystan"
   ]
  },
  {
   "cell_type": "code",
   "execution_count": 3,
   "metadata": {},
   "outputs": [],
   "source": [
    "\n",
    "\n",
    "import matplotlib.pyplot as plt\n",
    "import seaborn as sns\n",
    "import autograd.numpy as np\n",
    "#import pystan\n",
    "from viabel import all_bounds\n",
    "from viabel.vb import (mean_field_gaussian_variational_family,\n",
    "                       mean_field_t_variational_family,\n",
    "                       full_rank_gaussian_variational_family,\n",
    "                       t_variational_family,\n",
    "                       black_box_klvi,\n",
    "                       black_box_klvi_pd,\n",
    "                       black_box_klvi_pd2,\n",
    "                       black_box_chivi,\n",
    "                       black_box_chivi_neff,\n",
    "                       perturbed_black_box_vi,\n",
    "                       make_stan_log_density,\n",
    "                       adagrad_optimize, \n",
    "                     \n",
    "                      )\n",
    "from experiments import (get_samples_and_log_weights, \n",
    "                         plot_history, \n",
    "                         plot_approx_and_exact_contours, \n",
    "                         check_approx_accuracy,\n",
    "                         print_bounds)\n",
    "\n",
    "from data_generator import (data_generator_linear)"
   ]
  },
  {
   "cell_type": "code",
   "execution_count": 4,
   "metadata": {},
   "outputs": [],
   "source": [
    "from viabel.vb import  rmsprop_IA_optimize_with_rhat, adam_IA_optimize_with_rhat"
   ]
  },
  {
   "cell_type": "code",
   "execution_count": 5,
   "metadata": {},
   "outputs": [],
   "source": [
    "\n",
    "regression_model_code = \"\"\"data {\n",
    "  int<lower=0> N;   // number of observations\n",
    "  int<lower=0> D;   // number of observations\n",
    "  matrix[N, D] x;   // predictor matrix\n",
    "  vector[N] y;      // outcome vector\n",
    "}\n",
    "parameters {\n",
    "  vector[D] beta;       // coefficients for predictors\n",
    "}\n",
    "\n",
    "model {\n",
    "  beta ~ normal(0, 10);\n",
    "  y ~ student_t(40, x * beta, 1);  // likelihood\n",
    "  #y ~ normal( x * beta, 0.5);  // likelihood\n",
    "}\"\"\""
   ]
  },
  {
   "cell_type": "code",
   "execution_count": 6,
   "metadata": {},
   "outputs": [],
   "source": [
    "try:\n",
    "    sm = pickle.load(open('robust_reg_model_t.pkl', 'rb'))\n",
    "except:\n",
    "    sm = pystan.StanModel(model_code=regression_model_code, model_name='regression_model')\n",
    "    with open('robust_reg_model_t.pkl', 'wb') as f:\n",
    "        pickle.dump(sm, f)\n",
    "\n"
   ]
  },
  {
   "cell_type": "markdown",
   "metadata": {},
   "source": [
    "### First we take D=14"
   ]
  },
  {
   "cell_type": "code",
   "execution_count": null,
   "metadata": {},
   "outputs": [],
   "source": [
    "N=80\n",
    "k=14\n",
    "SEED= 5080\n",
    "alpha=1.\n",
    "noise_sigma=0.5\n",
    "noise_var = noise_sigma**2\n",
    "rho = 0.1\n",
    "regression_data = data_generator_linear(N, k, alpha=alpha,noise_variance=noise_var,rho=rho, seed=SEED)\n",
    "X = regression_data['X']\n",
    "Y = regression_data['Y']\n",
    "Y=Y[:,0]\n",
    "W = regression_data['W']"
   ]
  },
  {
   "cell_type": "code",
   "execution_count": 13,
   "metadata": {},
   "outputs": [],
   "source": [
    "lims1 = dict(xlim=[-1.7,0.1], ylim=[-0.2,1.2])\n",
    "lims2 = dict(xlim=[1.7,3.2], ylim=[-1.1,0.2])"
   ]
  },
  {
   "cell_type": "code",
   "execution_count": null,
   "metadata": {},
   "outputs": [],
   "source": [
    "#data = dict(N=N, x=x, y=y, D=k)\n",
    "data = dict(N=N, x=X, y=Y, D=k)\n",
    "fit = sm.sampling(data=data)"
   ]
  },
  {
   "cell_type": "code",
   "execution_count": null,
   "metadata": {},
   "outputs": [],
   "source": [
    "true_mean = np.mean(fit['beta'], axis=0)\n",
    "true_cov = np.cov(fit['beta'].T)\n",
    "true_std = np.sqrt(np.diag(true_cov))"
   ]
  },
  {
   "cell_type": "code",
   "execution_count": null,
   "metadata": {},
   "outputs": [],
   "source": [
    "mf_g_var_family = mean_field_gaussian_variational_family(k)\n",
    "fr_g_var_family = t_variational_family(k, df=1000000)\n",
    "mf_t_var_family= mean_field_t_variational_family(k, df=40)\n",
    "stan_log_density = make_stan_log_density(fit)\n",
    "chivi_mf_objective_and_grad_pd = black_box_chivi(2, mf_g_var_family, stan_log_density, 2000)\n",
    "chivi_t_mf_objective_and_grad_pd = black_box_chivi(2, mf_t_var_family, stan_log_density, 2000)\n",
    "chivi_fr_objective_and_grad_pd = black_box_chivi(2, fr_g_var_family, stan_log_density, 2000)"
   ]
  },
  {
   "cell_type": "code",
   "execution_count": null,
   "metadata": {},
   "outputs": [],
   "source": [
    "mf_t_var_family = mf_t_var_family = mean_field_t_variational_family(k, 10)\n",
    "stan_log_density = make_stan_log_density(fit)\n",
    "klvi_objective_and_grad = black_box_klvi(mf_t_var_family, stan_log_density, 100)\n",
    "\n",
    "init_mean    = np.zeros(k)\n",
    "init_log_std = np.ones(k)\n",
    "init_var_param = np.concatenate([init_mean, init_log_std])\n",
    "n_iters = 5000\n",
    "\n",
    "#plot_approx_and_exact_contours(stan_log_density, mf_t_var_family, init_var_param, **lims)\n",
    "klvi_var_param, klvi_param_history, klvi_history, _ = \\\n",
    "    adagrad_optimize(n_iters, klvi_objective_and_grad, init_var_param, learning_rate=.01)"
   ]
  },
  {
   "cell_type": "markdown",
   "metadata": {},
   "source": [
    "### KLVI solution"
   ]
  },
  {
   "cell_type": "code",
   "execution_count": null,
   "metadata": {},
   "outputs": [],
   "source": [
    "plot_approx_and_exact_contours(stan_log_density, mf_t_var_family, klvi_var_param, **lims1,\n",
    "                               savepath='figures/robust-regression-mf-klvi-good_new.pdf', aux_var = true_mean[2:])"
   ]
  },
  {
   "cell_type": "markdown",
   "metadata": {},
   "source": [
    "#### make KLVI solution overdispersed"
   ]
  },
  {
   "cell_type": "code",
   "execution_count": null,
   "metadata": {},
   "outputs": [],
   "source": [
    "mf_t_var_family = mean_field_t_variational_family(k, 5)\n",
    "chivi_objective_and_grad = black_box_chivi(2, mf_t_var_family, stan_log_density, 500)\n",
    "\n",
    "init_param1 = klvi_var_param.copy()\n",
    "print(init_param1.shape)\n",
    "init_param1[k:] +=0.6"
   ]
  },
  {
   "cell_type": "code",
   "execution_count": null,
   "metadata": {},
   "outputs": [],
   "source": [
    "a,b,c,d = adagrad_optimize(6000, chivi_objective_and_grad,  init_param1, False, window=10, learning_rate=.01, learning_rate_end=0.002)"
   ]
  },
  {
   "cell_type": "code",
   "execution_count": null,
   "metadata": {},
   "outputs": [],
   "source": [
    "#a1,b1,c1,d1 = adagrad_optimize(600, chivi_objective_and_grad,  a, False, window=10, learning_rate=.01, learning_rate_end=0.002)"
   ]
  },
  {
   "cell_type": "markdown",
   "metadata": {},
   "source": [
    "#### PLot of CUBO"
   ]
  },
  {
   "cell_type": "code",
   "execution_count": null,
   "metadata": {},
   "outputs": [],
   "source": [
    "print(klvi_var_param)\n",
    "print(a)\n",
    "#print(b[-1])\n",
    "print(true_mean)\n",
    "print(np.log(true_std))\n",
    "\n",
    "plt.plot(c)\n",
    "plt.ylabel('objective')\n",
    "plt.xlabel('Iterations')\n",
    "plt.savefig('figures/good_chivi_run_new1.pdf')\n",
    "print(c[0])\n",
    "print(c[-1])"
   ]
  },
  {
   "cell_type": "code",
   "execution_count": null,
   "metadata": {},
   "outputs": [],
   "source": [
    "plot_approx_and_exact_contours(stan_log_density, mf_t_var_family, a, **lims1,\n",
    "                               savepath='figures/robust-regression-mf-chivi-good_new1.pdf', aux_var = true_mean[2:])"
   ]
  },
  {
   "cell_type": "code",
   "execution_count": null,
   "metadata": {},
   "outputs": [],
   "source": [
    "plot_approx_and_exact_contours(stan_log_density, mf_t_var_family, init_param1, **lims1,\n",
    "                               savepath='figures/robust-regression-mf-chivi-init1.pdf', aux_var = true_mean[2:])"
   ]
  },
  {
   "cell_type": "markdown",
   "metadata": {},
   "source": [
    "###  Bad run, let us take D=30"
   ]
  },
  {
   "cell_type": "code",
   "execution_count": 7,
   "metadata": {},
   "outputs": [],
   "source": [
    "N=90\n",
    "k=30\n",
    "SEED= 5080\n",
    "alpha=1.\n",
    "noise_sigma=0.5\n",
    "noise_var = noise_sigma**2\n",
    "rho = 0.1\n",
    "regression_data = data_generator_linear(N, k, alpha=alpha,noise_variance=noise_var,rho=rho, seed=SEED)\n",
    "X = regression_data['X']\n",
    "Y = regression_data['Y']\n",
    "Y=Y[:,0]\n",
    "W = regression_data['W']"
   ]
  },
  {
   "cell_type": "code",
   "execution_count": 8,
   "metadata": {},
   "outputs": [],
   "source": [
    "#data = dict(N=N, x=x, y=y, D=k)\n",
    "data = dict(N=N, x=X, y=Y, D=k)\n",
    "fit = sm.sampling(data=data)"
   ]
  },
  {
   "cell_type": "code",
   "execution_count": 9,
   "metadata": {},
   "outputs": [],
   "source": [
    "true_mean = np.mean(fit['beta'], axis=0)\n",
    "true_cov = np.cov(fit['beta'].T)\n",
    "true_std = np.sqrt(np.diag(true_cov))"
   ]
  },
  {
   "cell_type": "code",
   "execution_count": 10,
   "metadata": {},
   "outputs": [],
   "source": [
    "mf_g_var_family = mean_field_gaussian_variational_family(k)\n",
    "fr_g_var_family = t_variational_family(k, df=1000000)\n",
    "mf_t_var_family= mean_field_t_variational_family(k, df=40)\n",
    "stan_log_density = make_stan_log_density(fit)\n",
    "chivi_mf_objective_and_grad_pd = black_box_chivi(2, mf_g_var_family, stan_log_density, 600)\n",
    "chivi_t_mf_objective_and_grad_pd = black_box_chivi(2, mf_t_var_family, stan_log_density, 600)\n",
    "chivi_fr_objective_and_grad_pd = black_box_chivi(2, fr_g_var_family, stan_log_density, 600)"
   ]
  },
  {
   "cell_type": "code",
   "execution_count": 11,
   "metadata": {},
   "outputs": [
    {
     "name": "stderr",
     "output_type": "stream",
     "text": [
      "Average Loss = 93.16: 100%|██████████| 6000/6000 [00:44<00:00, 136.03it/s] \n"
     ]
    }
   ],
   "source": [
    "mf_t_var_family = mf_t_var_family = mean_field_t_variational_family(k, 10)\n",
    "stan_log_density = make_stan_log_density(fit)\n",
    "klvi_objective_and_grad = black_box_klvi(mf_t_var_family, stan_log_density, 100)\n",
    "\n",
    "init_mean    = np.zeros(k)\n",
    "init_log_std = np.ones(k)\n",
    "init_var_param = np.concatenate([init_mean, init_log_std])\n",
    "n_iters = 6000\n",
    "\n",
    "#plot_approx_and_exact_contours(stan_log_density, mf_t_var_family, init_var_param, **lims)\n",
    "klvi_var_param, klvi_param_history, klvi_history, _ = \\\n",
    "    adagrad_optimize(n_iters, klvi_objective_and_grad, init_var_param, learning_rate=.01)"
   ]
  },
  {
   "cell_type": "code",
   "execution_count": 14,
   "metadata": {},
   "outputs": [
    {
     "data": {
      "image/png": "[encoded data removed]",
      "text/plain": [
       "<Figure size 432x288 with 1 Axes>"
      ]
     },
     "metadata": {
      "needs_background": "light"
     },
     "output_type": "display_data"
    }
   ],
   "source": [
    "plot_approx_and_exact_contours(stan_log_density, mf_t_var_family, klvi_var_param, **lims2,\n",
    "                               savepath='figures/robust-regression-mf-klvi-bad_new_1.pdf', aux_var = true_mean[2:])"
   ]
  },
  {
   "cell_type": "code",
   "execution_count": 15,
   "metadata": {},
   "outputs": [
    {
     "name": "stdout",
     "output_type": "stream",
     "text": [
      "(60,)\n"
     ]
    }
   ],
   "source": [
    "mf_t_var_family = mean_field_t_variational_family(k, 8)\n",
    "chivi_objective_and_grad = black_box_chivi_neff(2, mf_t_var_family, stan_log_density, 500)\n",
    "\n",
    "init_param1 = klvi_var_param.copy()\n",
    "print(init_param1.shape)\n",
    "init_param1[k:] += 1.2"
   ]
  },
  {
   "cell_type": "code",
   "execution_count": null,
   "metadata": {},
   "outputs": [
    {
     "name": "stderr",
     "output_type": "stream",
     "text": [
      "Average Loss = -62.513:  33%|███▎      | 460/1400 [00:27<00:53, 17.54it/s]"
     ]
    }
   ],
   "source": [
    "a1,b1,c1,d1 = adagrad_optimize(1400, chivi_objective_and_grad,  init_param1, False, window=10, learning_rate=.004, learning_rate_end=0.0001)"
   ]
  },
  {
   "cell_type": "code",
   "execution_count": 25,
   "metadata": {},
   "outputs": [
    {
     "name": "stdout",
     "output_type": "stream",
     "text": [
      "[ 2.107849   -0.38926655 -0.47548721  1.70539101  0.01792756  0.44905026\n",
      "  0.08557676  0.12501176  1.05727024 -1.01071255 -0.27542239  0.51884498\n",
      " -0.82683913 -0.05545258 -1.56766917 -0.82879026 -0.45432806 -1.40039733\n",
      "  0.05868357  0.95003692 -1.2903244  -0.34145529  0.26676693  0.08199261\n",
      " -1.03188473  0.20511306 -0.27190747 -0.4928862  -2.69851165  0.89668356\n",
      " -2.37374953 -2.42916877 -2.30843647 -2.38465948 -2.2720462  -2.21637637\n",
      " -2.38256208 -2.29955654 -2.37793525 -2.33755952 -2.29784835 -2.4992964\n",
      " -2.42387386 -2.26919082 -2.30351993 -2.42101311 -2.16790014 -2.33541616\n",
      " -2.3114862  -2.43847468 -2.37613036 -2.19522686 -2.40581461 -2.28425813\n",
      " -2.40418741 -2.45320112 -2.44171267 -2.27822173 -2.33484698 -2.42385857]\n",
      "[ 2.10351901 -0.38794647 -0.47762492  1.69748291  0.00767425  0.45042824\n",
      "  0.08179131  0.11742211  1.05494153 -1.00833204 -0.28013925  0.52199349\n",
      " -0.82059191 -0.05774773 -1.55733291 -0.83085738 -0.45216437 -1.40820126\n",
      "  0.05310758  0.95057858 -1.28963733 -0.3401903   0.26028264  0.07938995\n",
      " -1.02791966  0.20230677 -0.26175038 -0.48535205 -2.70143619  0.89662391\n",
      " -1.15631514 -1.21007805 -1.08813287 -1.1674901  -1.05298049 -0.99649775\n",
      " -1.16501989 -1.0798529  -1.15973418 -1.11783208 -1.08025393 -1.28207576\n",
      " -1.20796638 -1.05050086 -1.08594881 -1.20215209 -0.95275682 -1.11827786\n",
      " -1.09419212 -1.22140807 -1.15650191 -0.9770532  -1.18620468 -1.06555882\n",
      " -1.18619908 -1.23533487 -1.22426737 -1.05803185 -1.11724803 -1.20325222]\n",
      "[ 2.10806429 -0.39188472 -0.47527419  1.70375914  0.01951021  0.45127574\n",
      "  0.08433067  0.12492981  1.05868719 -1.00792236 -0.2731479   0.51646882\n",
      " -0.82441696 -0.06074675 -1.5606265  -0.82878286 -0.45279745 -1.39623921\n",
      "  0.05674961  0.95149079 -1.29120986 -0.34155182  0.26804957  0.08326947\n",
      " -1.03522863  0.20613149 -0.27254368 -0.49448941 -2.70033388  0.90002457]\n",
      "[-2.02462543 -2.06174687 -2.02118062 -2.10554043 -1.97665022 -1.99299593\n",
      " -2.04585786 -1.9426608  -2.1057643  -1.97784347 -2.07149628 -2.24130145\n",
      " -2.15097963 -2.00591775 -1.99934045 -2.12351652 -1.7876574  -1.97317306\n",
      " -2.0504712  -2.14793183 -2.09679633 -1.89072486 -2.16468836 -1.92413208\n",
      " -2.19440924 -2.14980312 -2.10094245 -2.03821677 -2.0714262  -2.1598331 ]\n"
     ]
    },
    {
     "data": {
      "image/png": "[encoded data removed]",
      "text/plain": [
       "<Figure size 432x288 with 1 Axes>"
      ]
     },
     "metadata": {
      "needs_background": "light"
     },
     "output_type": "display_data"
    }
   ],
   "source": [
    "print(klvi_var_param)\n",
    "print(a1)\n",
    "#print(b[-1])\n",
    "print(true_mean)\n",
    "print(np.log(true_std))\n",
    "\n",
    "plt.plot(c1)\n",
    "plt.ylabel('objective')\n",
    "plt.xlabel('Iterations')\n",
    "plt.savefig('figures/chivi_run_new_neff1.pdf')\n"
   ]
  },
  {
   "cell_type": "code",
   "execution_count": 26,
   "metadata": {},
   "outputs": [
    {
     "data": {
      "image/png": "[encoded data removed]",
      "text/plain": [
       "<Figure size 432x288 with 1 Axes>"
      ]
     },
     "metadata": {
      "needs_background": "light"
     },
     "output_type": "display_data"
    }
   ],
   "source": [
    "plot_approx_and_exact_contours(stan_log_density, mf_t_var_family, a1, **lims2,\n",
    "                               savepath='figures/robust-regression-mf-chivi-neff_1.pdf', aux_var = true_mean[2:])"
   ]
  },
  {
   "cell_type": "code",
   "execution_count": null,
   "metadata": {},
   "outputs": [],
   "source": []
  }
 ],
 "metadata": {
  "kernelspec": {
   "display_name": "Python (viabel_env)",
   "language": "python",
   "name": "viabel_env"
  },
  "language_info": {
   "codemirror_mode": {
    "name": "ipython",
    "version": 3
   },
   "file_extension": ".py",
   "mimetype": "text/x-python",
   "name": "python",
   "nbconvert_exporter": "python",
   "pygments_lexer": "ipython3",
   "version": "3.6.10"
  }
 },
 "nbformat": 4,
 "nbformat_minor": 4
}
