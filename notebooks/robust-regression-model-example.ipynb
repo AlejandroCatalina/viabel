{
 "cells": [
  {
   "cell_type": "code",
   "execution_count": 1,
   "metadata": {},
   "outputs": [],
   "source": [
    "import sys, os\n",
    "sys.path.append('..')\n",
    "sys.path.append('../..')"
   ]
  },
  {
   "cell_type": "code",
   "execution_count": 2,
   "metadata": {},
   "outputs": [],
   "source": [
    "import autograd"
   ]
  },
  {
   "cell_type": "code",
   "execution_count": 3,
   "metadata": {},
   "outputs": [],
   "source": [
    "import pickle"
   ]
  },
  {
   "cell_type": "code",
   "execution_count": 4,
   "metadata": {},
   "outputs": [],
   "source": [
    "import pystan"
   ]
  },
  {
   "cell_type": "code",
   "execution_count": 5,
   "metadata": {},
   "outputs": [],
   "source": [
    "import matplotlib.pyplot as plt\n",
    "import seaborn as sns\n",
    "import autograd.numpy as np\n",
    "#import pystan\n",
    "from viabel import all_bounds\n",
    "from viabel.vb import (mean_field_gaussian_variational_family,\n",
    "                       mean_field_t_variational_family,\n",
    "                       t_variational_family,\n",
    "                       black_box_klvi,\n",
    "                       black_box_klvi_pd,\n",
    "                       black_box_klvi_pd2,\n",
    "                       black_box_chivi,\n",
    "                       make_stan_log_density,\n",
    "                       adagrad_optimize\n",
    "                      )\n",
    "from experiments import (get_samples_and_log_weights, \n",
    "                         plot_history, \n",
    "                         plot_approx_and_exact_contours, \n",
    "                         check_approx_accuracy,\n",
    "                         print_bounds)\n",
    "\n",
    "from data_generator import (data_generator_linear)\n",
    "\n",
    "sns.set_style('white')\n",
    "sns.set_context('notebook', font_scale=2, rc={'lines.linewidth': 2})"
   ]
  },
  {
   "cell_type": "code",
   "execution_count": 6,
   "metadata": {},
   "outputs": [],
   "source": [
    "from viabel.vb import  rmsprop_IA_optimize_with_rhat, adam_IA_optimize_with_rhat"
   ]
  },
  {
   "cell_type": "markdown",
   "metadata": {},
   "source": [
    "# Linear regression model example\n",
    "\n",
    "We will approximate the posterior for the simple 2D robust linear regression model\n",
    "$$\\beta_i \\sim \\mathcal{N}(0, 10)$$\n",
    "$$y_n | x_n, \\beta, \\sigma \\sim \\mathcal{T}_{10}(\\beta^\\top x_n, 1).$$\n",
    "\n",
    "We will use Stan to take care of compute log probabilities and gradients for us. "
   ]
  },
  {
   "cell_type": "code",
   "execution_count": 7,
   "metadata": {},
   "outputs": [],
   "source": [
    "regression_model_code = \"\"\"data {\n",
    "  int<lower=0> N;   // number of observations\n",
    "  int<lower=0> D;   // number of observations\n",
    "  matrix[N, D] x;   // predictor matrix\n",
    "  vector[N] y;      // outcome vector\n",
    "}\n",
    "parameters {\n",
    "  vector[D] beta;       // coefficients for predictors\n",
    "}\n",
    "\n",
    "model {\n",
    "  beta ~ normal(0, 10);\n",
    "  #y ~ student_t(10, x * beta, 1);  // likelihood\n",
    "  y ~ normal( x * beta, 0.5);  // likelihood\n",
    "}\"\"\""
   ]
  },
  {
   "cell_type": "code",
   "execution_count": 8,
   "metadata": {},
   "outputs": [],
   "source": [
    "\n",
    "try:\n",
    "    sm = pickle.load(open('robust_reg_model_1.pkl', 'rb'))\n",
    "except:\n",
    "    sm = pystan.StanModel(model_code=regression_model_code, model_name='regression_model')\n",
    "    with open('robust_reg_model_1.pkl', 'wb') as f:\n",
    "        pickle.dump(sm, f)\n"
   ]
  },
  {
   "cell_type": "markdown",
   "metadata": {},
   "source": [
    "We generate 25 observations from the model with $\\beta = (-2, 1)$."
   ]
  },
  {
   "cell_type": "code",
   "execution_count": 9,
   "metadata": {},
   "outputs": [],
   "source": [
    "SEED=5040\n",
    "np.random.seed(SEED)\n",
    "beta_gen = np.array([-2, 1])\n",
    "N = 100\n",
    "k=10\n",
    "x = np.random.randn(N, 2).dot(np.array([[1,.85],[.85, 1]]))\n",
    "y_raw = x.dot(beta_gen) + np.random.standard_t(10, N)\n",
    "y = y_raw - np.mean(y_raw)"
   ]
  },
  {
   "cell_type": "code",
   "execution_count": 10,
   "metadata": {},
   "outputs": [],
   "source": [
    "N=150\n",
    "k=10\n",
    "SEED= 5080\n",
    "alpha=1.\n",
    "noise_sigma = 0.4\n",
    "noise_var = noise_sigma**2\n",
    "rho = 0.5\n",
    "regression_data = data_generator_linear(N, k, alpha=alpha,\n",
    "                                                     noise_variance=noise_var,\n",
    "                                                     rho=rho, seed=SEED)\n",
    "X = regression_data['X']\n",
    "Y = regression_data['Y']\n",
    "Y=Y[:,0]\n",
    "W = regression_data['W']"
   ]
  },
  {
   "cell_type": "markdown",
   "metadata": {},
   "source": [
    "First, we generate ground truth samples using Stan's dynamic HMC implementation"
   ]
  },
  {
   "cell_type": "code",
   "execution_count": 11,
   "metadata": {},
   "outputs": [],
   "source": [
    "data = dict(N=N, x=X, y=Y, D=k)\n",
    "fit = sm.sampling(data=data)"
   ]
  },
  {
   "cell_type": "code",
   "execution_count": 12,
   "metadata": {},
   "outputs": [],
   "source": [
    "true_mean = np.mean(fit['beta'], axis=0)\n",
    "true_cov = np.cov(fit['beta'].T)"
   ]
  },
  {
   "cell_type": "code",
   "execution_count": 13,
   "metadata": {},
   "outputs": [
    {
     "name": "stdout",
     "output_type": "stream",
     "text": [
      "[ 1.35944662 -0.28588137  1.05815534 -0.37046009 -0.9867223  -1.27562414\n",
      " -0.65313808 -0.28673116  2.06733304  0.59651051]\n"
     ]
    }
   ],
   "source": [
    "print(true_mean)"
   ]
  },
  {
   "cell_type": "code",
   "execution_count": 14,
   "metadata": {},
   "outputs": [
    {
     "data": {
      "image/png": "[encoded data removed]",
      "text/plain": [
       "<Figure size 432x432 with 3 Axes>"
      ]
     },
     "metadata": {},
     "output_type": "display_data"
    }
   ],
   "source": [
    "jp = sns.jointplot(x=fit['beta[1]'], y=fit['beta[2]'], kind='kde')\n",
    "jp.set_axis_labels(r'$\\beta_1$', r'$\\beta_2$')\n",
    "plt.show()"
   ]
  },
  {
   "cell_type": "markdown",
   "metadata": {},
   "source": [
    "## Standard mean-field variational inference\n",
    "\n",
    "Next, we compute a mean field variational approximation using standard variational inference (that is, minimizing the KL-divergence)"
   ]
  },
  {
   "cell_type": "code",
   "execution_count": 15,
   "metadata": {},
   "outputs": [],
   "source": [
    "mf_g_var_family = mean_field_gaussian_variational_family(k)\n",
    "stan_log_density = make_stan_log_density(fit)\n",
    "klvi_objective_and_grad = black_box_klvi(mf_g_var_family, stan_log_density, 100)\n",
    "\n",
    "init_mean    = np.zeros(k)\n",
    "init_log_std = np.ones(k)\n",
    "init_var_param = np.concatenate([init_mean, init_log_std])\n",
    "n_iters = 5000\n",
    "\n"
   ]
  },
  {
   "cell_type": "code",
   "execution_count": 16,
   "metadata": {},
   "outputs": [],
   "source": [
    "mf_g_var_family = mean_field_gaussian_variational_family(k)\n",
    "stan_log_density = make_stan_log_density(fit)\n",
    "klvi_objective_and_grad_pd = black_box_klvi_pd2(mf_g_var_family, stan_log_density, 100)\n",
    "\n",
    "init_mean    = np.zeros(k)\n",
    "#init_mean_random = np.random.normal([k], stddev=1.0)\n",
    "init_log_std = np.ones(k)\n",
    "#init_log_std_random = tf.random.normal([k], stddev=1.)\n",
    "init_var_param = np.concatenate([init_mean, init_log_std])\n",
    "n_iters = 4000"
   ]
  },
  {
   "cell_type": "code",
   "execution_count": 17,
   "metadata": {},
   "outputs": [
    {
     "name": "stderr",
     "output_type": "stream",
     "text": [
      "100%|██████████| 4000/4000 [00:54<00:00, 73.56it/s]\n",
      "100%|██████████| 4000/4000 [00:39<00:00, 102.50it/s]\n"
     ]
    },
    {
     "name": "stdout",
     "output_type": "stream",
     "text": [
      "(8, 2, 500, 20)\n",
      "(2, 500, 20)\n",
      "(2, 500, 20)\n",
      "(2, 500, 20)\n",
      "(2, 500, 20)\n",
      "(2, 500, 20)\n",
      "(2, 500, 20)\n",
      "(2, 500, 20)\n",
      "(2, 500, 20)\n"
     ]
    }
   ],
   "source": [
    "klvi_var_param, avg_klvi_var_param_list,_, klvi_history, _, op_log = \\\n",
    "    rmsprop_IA_optimize_with_rhat(n_iters, klvi_objective_and_grad, init_var_param, k, learning_rate=.01,n_optimisers=2)"
   ]
  },
  {
   "cell_type": "code",
   "execution_count": 25,
   "metadata": {},
   "outputs": [
    {
     "name": "stderr",
     "output_type": "stream",
     "text": [
      "100%|██████████| 6000/6000 [00:57<00:00, 104.76it/s]\n",
      "100%|██████████| 6000/6000 [01:01<00:00, 98.24it/s] \n"
     ]
    },
    {
     "name": "stdout",
     "output_type": "stream",
     "text": [
      "(12, 2, 500, 20)\n",
      "(2, 500, 20)\n",
      "(2, 500, 20)\n",
      "(2, 500, 20)\n",
      "(2, 500, 20)\n",
      "(2, 500, 20)\n",
      "(2, 500, 20)\n",
      "(2, 500, 20)\n",
      "(2, 500, 20)\n",
      "(2, 500, 20)\n",
      "(2, 500, 20)\n",
      "(2, 500, 20)\n",
      "(2, 500, 20)\n"
     ]
    }
   ],
   "source": [
    "klvi_var_param_adam, avg_klvi_var_param_list_adam,_, klvi_history_adam, _, op_log_adam = \\\n",
    "    adam_IA_optimize_with_rhat(6000, klvi_objective_and_grad, init_var_param, k, learning_rate=.01,n_optimisers=2)"
   ]
  },
  {
   "cell_type": "code",
   "execution_count": 28,
   "metadata": {},
   "outputs": [
    {
     "name": "stdout",
     "output_type": "stream",
     "text": [
      "[ 1.35806969 -0.29115626  1.05697198 -0.37573755 -0.98317268 -1.27589284\n",
      " -0.64967053 -0.28840383  2.07043963  0.60098171 -3.11682547 -3.29880137\n",
      " -3.19284393 -3.15547684 -3.1608993  -3.24793448 -3.19968143 -3.11026076\n",
      " -3.20271568 -3.22403334]\n",
      "[ 1.36186074 -0.28835031  1.05760449 -0.37425456 -0.98299628 -1.27502252\n",
      " -0.65344422 -0.28849553  2.0690449   0.60174367 -1.59808156 -2.72490891\n",
      " -2.27087    -2.34877141 -1.90616801 -2.56828189 -2.31817674 -2.6280914\n",
      " -2.23737668 -1.91479606]\n"
     ]
    }
   ],
   "source": [
    "print(klvi_var_param)\n",
    "print(klvi_var_param_adam)"
   ]
  },
  {
   "cell_type": "code",
   "execution_count": 29,
   "metadata": {},
   "outputs": [
    {
     "name": "stdout",
     "output_type": "stream",
     "text": [
      "2\n",
      "[ 1.35858102 -0.28609934  1.06052529 -0.37402548 -0.98538522 -1.2761466\n",
      " -0.65335142 -0.28632809  2.06725664  0.59707635 -1.39575258 -2.54781603\n",
      " -2.07601719 -2.15958443 -1.70660446 -2.38357155 -2.12532159 -2.45677564\n",
      " -2.04294256 -1.71370875]\n",
      "[ 1.35948462 -0.286379    1.06097359 -0.37425136 -0.98524326 -1.27566862\n",
      " -0.65293837 -0.28646433  2.06748994  0.59727378 -2.03532864 -2.09786258\n",
      " -2.11348987 -2.11614679 -1.99905055 -2.16659056 -2.11311745 -1.95666417\n",
      " -2.09588739 -2.13447694]\n"
     ]
    }
   ],
   "source": [
    "print(len(avg_klvi_var_param_list_adam))\n",
    "print(avg_klvi_var_param_list_adam[1][-1])\n",
    "print(avg_klvi_var_param_list_adam[0][-1])"
   ]
  },
  {
   "cell_type": "code",
   "execution_count": 30,
   "metadata": {},
   "outputs": [
    {
     "name": "stdout",
     "output_type": "stream",
     "text": [
      "1000\n",
      "4500\n"
     ]
    }
   ],
   "source": [
    "print(op_log['start_avg_mean_iters'])\n",
    "print(op_log_adam['start_avg_mean_iters'])"
   ]
  },
  {
   "cell_type": "code",
   "execution_count": 31,
   "metadata": {},
   "outputs": [
    {
     "name": "stdout",
     "output_type": "stream",
     "text": [
      "[[ 4.71537791  3.41674316  2.2263366   6.3664453   2.84150109  4.70266468\n",
      "   3.89309485 13.15211676  2.17955024  2.31879659]\n",
      " [ 2.24305433  2.82713551  2.14122641  3.85824926  1.99907012  2.69123392\n",
      "   2.08657146  3.22157323  1.78007143  1.44182632]\n",
      " [ 1.05124104  1.0427016   1.02507058  1.02467841  1.00528947  1.01287732\n",
      "   1.06621077  1.01472451  1.00498155  1.02485372]\n",
      " [ 1.01379503  1.00271678  0.9998515   1.00672084  1.00703636  1.0048961\n",
      "   1.00550067  1.02050238  0.99984592  1.00521751]\n",
      " [ 0.99949421  0.99921782  1.01397878  1.02019491  0.99863631  1.00637064\n",
      "   1.01028496  1.00002812  0.99935349  1.01379644]\n",
      " [ 1.00419353  1.00361368  1.00180558  0.99901489  1.0000097   0.9990491\n",
      "   0.99961102  0.99874472  0.99841203  1.00647536]\n",
      " [ 1.00468583  1.00586706  0.99901819  1.00721422  0.99913287  0.99835953\n",
      "   0.9998516   0.99841286  1.0064272   1.00389305]\n",
      " [ 1.00563101  1.0072116   1.0078462   1.00706854  1.002545    0.99810114\n",
      "   1.00542829  1.00175602  0.99980585  1.01359589]]\n",
      "[[2.99804673 1.27062206 2.24947975 1.95950186 2.50620481 3.96058714\n",
      "  3.0862212  1.51413958 2.36046661 2.31338387]\n",
      " [1.88741405 1.85509711 1.64923677 2.39983293 2.32747792 4.67243514\n",
      "  4.07897071 1.96497608 2.18098211 2.70829099]\n",
      " [1.04455661 1.06502425 1.60668195 1.76892188 1.59478694 2.68658425\n",
      "  2.37110468 1.36969493 1.98849369 2.238763  ]\n",
      " [1.03102756 1.25724672 1.07002885 1.01599897 1.29225321 1.52444385\n",
      "  1.41146755 1.06356582 1.3472692  1.51008471]\n",
      " [1.11857571 1.01500278 1.021707   1.10754365 1.01351389 1.09563668\n",
      "  1.02729642 1.00472754 1.02077181 1.09221061]\n",
      " [1.01827914 1.03202674 1.02886381 1.0286422  1.0983824  1.06487263\n",
      "  1.24574901 1.03752788 1.11156864 1.0978318 ]\n",
      " [1.00146869 1.0524967  1.00708987 1.01746981 1.21935976 1.05862841\n",
      "  1.10606917 1.03703852 1.02637837 1.20693302]\n",
      " [1.01923602 1.05117973 1.01415272 1.0400218  1.0089664  1.01165835\n",
      "  1.10090764 1.00618695 1.13820009 1.08351863]\n",
      " [1.22307937 1.04356889 1.02440559 1.0202692  1.10698884 1.00113139\n",
      "  1.00967582 1.01461894 1.08127449 1.09012672]\n",
      " [0.99936024 1.003091   1.02519511 1.03039476 1.01809687 1.04227872\n",
      "  1.08926508 1.00842006 1.01042499 1.02356743]\n",
      " [1.02369621 1.01092579 1.014364   1.03094602 1.08385308 1.07454066\n",
      "  1.03591252 1.01552413 1.01488651 1.04204308]\n",
      " [1.02234093 1.0062204  1.01024535 1.0012166  1.05020302 1.01489833\n",
      "  1.01469529 1.00224801 1.01780401 1.03098958]]\n"
     ]
    }
   ],
   "source": [
    "print(op_log['r_hat_mean'])\n",
    "print(op_log_adam['r_hat_mean'])"
   ]
  },
  {
   "cell_type": "code",
   "execution_count": null,
   "metadata": {},
   "outputs": [],
   "source": [
    "### Optimisation using Adagrad and Iterate Averaging"
   ]
  },
  {
   "cell_type": "code",
   "execution_count": null,
   "metadata": {},
   "outputs": [],
   "source": []
  },
  {
   "cell_type": "code",
   "execution_count": null,
   "metadata": {},
   "outputs": [],
   "source": [
    "#plot_approx_and_exact_contours(stan_log_density, mf_g_var_family, init_var_param, xlim=[-6,0], ylim=[-1,6])\n",
    "klvi_var_param, _, klvi_history, _ = \\\n",
    "    adagrad_optimize(n_iters, klvi_objective_and_grad, init_var_param, learning_rate=.01)"
   ]
  },
  {
   "cell_type": "code",
   "execution_count": null,
   "metadata": {},
   "outputs": [],
   "source": [
    "klvi_var_param_pd, _, averaged_klvi_var_param_pd, klvi_history_pd, _ = \\\n",
    "    rmsprop_IA_optimize(n_iters, klvi_objective_and_grad_pd, init_var_param, learning_rate=.01)"
   ]
  },
  {
   "cell_type": "code",
   "execution_count": 33,
   "metadata": {},
   "outputs": [
    {
     "data": {
      "image/png": "[encoded data removed]",
      "text/plain": [
       "<Figure size 432x288 with 1 Axes>"
      ]
     },
     "metadata": {},
     "output_type": "display_data"
    },
    {
     "data": {
      "image/png": "[encoded data removed]",
      "text/plain": [
       "<Figure size 432x288 with 1 Axes>"
      ]
     },
     "metadata": {},
     "output_type": "display_data"
    },
    {
     "ename": "ValueError",
     "evalue": "operands could not be broadcast together with shapes (12000,) (8000,) ",
     "output_type": "error",
     "traceback": [
      "\u001b[0;31m---------------------------------------------------------------------------\u001b[0m",
      "\u001b[0;31mValueError\u001b[0m                                Traceback (most recent call last)",
      "\u001b[0;32m<ipython-input-33-5689ebe72045>\u001b[0m in \u001b[0;36m<module>\u001b[0;34m\u001b[0m\n\u001b[1;32m      1\u001b[0m \u001b[0mplot_history\u001b[0m\u001b[0;34m(\u001b[0m\u001b[0mklvi_history\u001b[0m\u001b[0;34m)\u001b[0m\u001b[0;34m\u001b[0m\u001b[0;34m\u001b[0m\u001b[0m\n\u001b[1;32m      2\u001b[0m \u001b[0mplot_history\u001b[0m\u001b[0;34m(\u001b[0m\u001b[0mklvi_history_adam\u001b[0m\u001b[0;34m)\u001b[0m\u001b[0;34m\u001b[0m\u001b[0;34m\u001b[0m\u001b[0m\n\u001b[0;32m----> 3\u001b[0;31m \u001b[0mplot_history\u001b[0m\u001b[0;34m(\u001b[0m\u001b[0mklvi_history_adam\u001b[0m \u001b[0;34m-\u001b[0m \u001b[0mklvi_history\u001b[0m\u001b[0;34m)\u001b[0m\u001b[0;34m\u001b[0m\u001b[0;34m\u001b[0m\u001b[0m\n\u001b[0m",
      "\u001b[0;31mValueError\u001b[0m: operands could not be broadcast together with shapes (12000,) (8000,) "
     ]
    }
   ],
   "source": [
    "plot_history(klvi_history)\n",
    "plot_history(klvi_history_adam)\n",
    "plot_history(klvi_history_adam - klvi_history)"
   ]
  },
  {
   "cell_type": "markdown",
   "metadata": {},
   "source": [
    "### Optimisation using RMSProp and Iterate Averaging."
   ]
  },
  {
   "cell_type": "code",
   "execution_count": null,
   "metadata": {},
   "outputs": [],
   "source": [
    "#plot_approx_and_exact_contours(stan_log_density, mf_g_var_family, init_var_param, xlim=[-6,0], ylim=[-1,6])\n",
    "klvi_var_param_rms, _, averaged_klvi_var_param_history_rms, klvi_history_rms, _ = \\\n",
    "    rmsprop_IA_optimize(n_iters, klvi_objective_and_grad, init_var_param, learning_rate=.01)"
   ]
  },
  {
   "cell_type": "code",
   "execution_count": null,
   "metadata": {},
   "outputs": [],
   "source": [
    "averaged_klvi_var_param_rms= averaged_klvi_var_param_history_rms[-1]"
   ]
  },
  {
   "cell_type": "code",
   "execution_count": null,
   "metadata": {},
   "outputs": [],
   "source": [
    "klvi_var_param_adam, _, averaged_klvi_var_param_history_adam, klvi_history_adam, _ = \\\n",
    "    adam_IA_optimize(15000, klvi_objective_and_grad, init_var_param, learning_rate=.013)"
   ]
  },
  {
   "cell_type": "code",
   "execution_count": null,
   "metadata": {},
   "outputs": [],
   "source": [
    "averaged_klvi_var_param_adam = averaged_klvi_var_param_history_adam[-1]"
   ]
  },
  {
   "cell_type": "markdown",
   "metadata": {},
   "source": [
    "We can plot the negative ELBO to visually verify convergence"
   ]
  },
  {
   "cell_type": "code",
   "execution_count": null,
   "metadata": {},
   "outputs": [],
   "source": [
    "plot_history(klvi_history)\n",
    "plot_history(klvi_history_rms)\n",
    "plot_history(klvi_history_adam)"
   ]
  },
  {
   "cell_type": "markdown",
   "metadata": {},
   "source": [
    "Due to the strong posterior correlation, the variational approximation dramatically underestimates uncertainty"
   ]
  },
  {
   "cell_type": "code",
   "execution_count": null,
   "metadata": {},
   "outputs": [],
   "source": [
    "#plot_approx_and_exact_contours(stan_log_density, mf_g_var_family, klvi_var_param, xlim=[-6,0], ylim=[-1,6])"
   ]
  },
  {
   "cell_type": "code",
   "execution_count": null,
   "metadata": {},
   "outputs": [],
   "source": [
    "#plot_approx_and_exact_contours(stan_log_density, mf_g_var_family, averaged_klvi_var_param, xlim=[-6,0], ylim=[-1,6])"
   ]
  },
  {
   "cell_type": "code",
   "execution_count": null,
   "metadata": {},
   "outputs": [],
   "source": [
    "print(klvi_var_param)"
   ]
  },
  {
   "cell_type": "code",
   "execution_count": 34,
   "metadata": {},
   "outputs": [
    {
     "name": "stdout",
     "output_type": "stream",
     "text": [
      "mean   = [ 1.35806969 -0.29115626  1.05697198 -0.37573755 -0.98317268 -1.27589284\n",
      " -0.64967053 -0.28840383  2.07043963  0.60098171]\n",
      "stdevs = [0.04429757 0.0369274  0.04105495 0.04261807 0.0423876  0.03885438\n",
      " 0.04077519 0.04458933 0.04065166 0.03979423]\n",
      "mean error       = 0.00957\n",
      "||cov error||_2  = 0.00517\n",
      "||true_cov||_2   = 0.00695\n",
      "stdev error      = 0.0419\n",
      "rel. std error   = 0.744\n"
     ]
    }
   ],
   "source": [
    "check_approx_accuracy(mf_g_var_family, klvi_var_param, true_mean, true_cov, verbose=True);"
   ]
  },
  {
   "cell_type": "code",
   "execution_count": 35,
   "metadata": {},
   "outputs": [
    {
     "name": "stdout",
     "output_type": "stream",
     "text": [
      "mean   = [ 1.36186074 -0.28835031  1.05760449 -0.37425456 -0.98299628 -1.27502252\n",
      " -0.65344422 -0.28849553  2.0690449   0.60174367]\n",
      "stdevs = [0.20228422 0.06555217 0.10322234 0.0954864  0.14864892 0.07666715\n",
      " 0.09845293 0.07221616 0.10673815 0.14737188]\n",
      "mean error       = 0.00773\n",
      "||cov error||_2  = 0.0382\n",
      "||true_cov||_2   = 0.00695\n",
      "stdev error      = 0.224\n",
      "rel. std error   = 4.3\n"
     ]
    }
   ],
   "source": [
    "check_approx_accuracy(mf_g_var_family, klvi_var_param_adam, true_mean, true_cov, verbose=True);"
   ]
  },
  {
   "cell_type": "code",
   "execution_count": null,
   "metadata": {},
   "outputs": [],
   "source": [
    "check_approx_accuracy(mf_g_var_family, averaged_klvi_var_param_rms, true_mean, true_cov, verbose=True);"
   ]
  },
  {
   "cell_type": "code",
   "execution_count": null,
   "metadata": {},
   "outputs": [],
   "source": [
    "check_approx_accuracy(mf_g_var_family, klvi_var_param_adam, true_mean, true_cov, verbose=True);"
   ]
  },
  {
   "cell_type": "code",
   "execution_count": null,
   "metadata": {},
   "outputs": [],
   "source": [
    "check_approx_accuracy(mf_g_var_family, averaged_klvi_var_param_adam, true_mean, true_cov, verbose=True);"
   ]
  },
  {
   "cell_type": "markdown",
   "metadata": {},
   "source": [
    "We can check approximation quality using `viabel`. All bounds suggest the approximation is not good. "
   ]
  },
  {
   "cell_type": "code",
   "execution_count": null,
   "metadata": {},
   "outputs": [],
   "source": [
    "model_param_samples, log_weights = \\\n",
    "    get_samples_and_log_weights(stan_log_density, mf_g_var_family, klvi_var_param, 1000000)\n",
    "elbo = np.mean(log_weights)\n",
    "var_dist_cov = mf_g_var_family.mean_and_cov(klvi_var_param)[1]\n",
    "klvi_results = all_bounds(log_weights, model_param_samples, q_var=var_dist_cov)"
   ]
  },
  {
   "cell_type": "code",
   "execution_count": null,
   "metadata": {},
   "outputs": [],
   "source": [
    "print_bounds(klvi_results)"
   ]
  },
  {
   "cell_type": "code",
   "execution_count": null,
   "metadata": {},
   "outputs": [],
   "source": [
    "model_param_samples, log_weights = \\\n",
    "    get_samples_and_log_weights(stan_log_density, mf_g_var_family, averaged_klvi_var_param_rms, 1000000)\n",
    "elbo_rmsia = np.mean(log_weights)\n",
    "var_dist_cov_rmsia = mf_g_var_family.mean_and_cov(averaged_klvi_var_param_rms)[1]\n",
    "klvi_results_rmsia = all_bounds(log_weights, model_param_samples, q_var=var_dist_cov_rmsia)"
   ]
  },
  {
   "cell_type": "code",
   "execution_count": null,
   "metadata": {},
   "outputs": [],
   "source": [
    "print_bounds(klvi_results_rmsia)"
   ]
  },
  {
   "cell_type": "code",
   "execution_count": null,
   "metadata": {},
   "outputs": [],
   "source": [
    "model_param_samples, log_weights = \\\n",
    "    get_samples_and_log_weights(stan_log_density, mf_g_var_family, averaged_klvi_var_param_adam, 1000000)\n",
    "elbo_adamia = np.mean(log_weights)\n",
    "var_dist_cov_adamia = mf_g_var_family.mean_and_cov(averaged_klvi_var_param_adam)[1]\n",
    "klvi_results_adamia = all_bounds(log_weights, model_param_samples, q_var=var_dist_cov_adamia)"
   ]
  },
  {
   "cell_type": "code",
   "execution_count": null,
   "metadata": {},
   "outputs": [],
   "source": [
    "print_bounds(klvi_results_adamia)"
   ]
  },
  {
   "cell_type": "code",
   "execution_count": null,
   "metadata": {},
   "outputs": [],
   "source": []
  },
  {
   "cell_type": "markdown",
   "metadata": {},
   "source": [
    "## Mean-field variational inference with CHIVI\n",
    "\n",
    "We can repeat the same procedure, but this time using CHIVI and a Student t mean-field variational family. "
   ]
  },
  {
   "cell_type": "code",
   "execution_count": null,
   "metadata": {
    "scrolled": false
   },
   "outputs": [],
   "source": [
    "mf_t_var_family = mean_field_t_variational_family(2, 40)\n",
    "chivi_objective_and_grad = black_box_chivi(2, mf_t_var_family, stan_log_density, 500)\n",
    "\n",
    "init_var_param = klvi_var_param.copy()\n",
    "init_var_param[2:] += 3\n",
    "\n",
    "chivi_var_param, _, chivi_history, _ = \\\n",
    "    adagrad_optimize(n_iters, chivi_objective_and_grad, init_var_param, learning_rate=.01) #, learning_rate_end=.01)"
   ]
  },
  {
   "cell_type": "code",
   "execution_count": null,
   "metadata": {},
   "outputs": [],
   "source": [
    "plot_history(chivi_history)"
   ]
  },
  {
   "cell_type": "markdown",
   "metadata": {},
   "source": [
    "The variance is no longer so dramically underestimated, though the variational approximation is still not very good. This is reflected is the large bounds."
   ]
  },
  {
   "cell_type": "code",
   "execution_count": null,
   "metadata": {},
   "outputs": [],
   "source": [
    "plot_approx_and_exact_contours(stan_log_density, mf_t_var_family, chivi_var_param, xlim=[-6,0], ylim=[-1,6])"
   ]
  },
  {
   "cell_type": "code",
   "execution_count": null,
   "metadata": {},
   "outputs": [],
   "source": [
    "check_approx_accuracy(mf_t_var_family, chivi_var_param, true_mean, true_cov, verbose=True);"
   ]
  },
  {
   "cell_type": "code",
   "execution_count": null,
   "metadata": {},
   "outputs": [],
   "source": [
    "model_param_samples, log_weights = \\\n",
    "    get_samples_and_log_weights(stan_log_density, mf_t_var_family, chivi_var_param, 1000000)\n",
    "var_dist_cov = mf_t_var_family.mean_and_cov(chivi_var_param)[1]\n",
    "chivi_results = all_bounds(log_weights, model_param_samples, q_var=var_dist_cov, log_norm_bound=elbo)"
   ]
  },
  {
   "cell_type": "code",
   "execution_count": null,
   "metadata": {},
   "outputs": [],
   "source": [
    "print_bounds(chivi_results)"
   ]
  },
  {
   "cell_type": "markdown",
   "metadata": {},
   "source": [
    "## Non-mean-field approximation\n",
    "\n",
    "Finally, we obtain a very good approximation by using a Student t variational family with a full-rank scaling matrix. "
   ]
  },
  {
   "cell_type": "code",
   "execution_count": null,
   "metadata": {},
   "outputs": [],
   "source": [
    "t_var_family = t_variational_family(2, 40)\n",
    "full_klvi_objective_and_grad = black_box_klvi(t_var_family, stan_log_density, 100)\n",
    "\n",
    "init_var_param = np.zeros(t_var_family.var_param_dim)\n",
    "plot_approx_and_exact_contours(stan_log_density, t_var_family, init_var_param, xlim=[-6,0], ylim=[-1,6])\n",
    "full_klvi_var_param, _, full_klvi_history, _ = \\\n",
    "    adagrad_optimize(n_iters, full_klvi_objective_and_grad, init_var_param, \n",
    "                     learning_rate=.1, learning_rate_end=.001)\n",
    "\n",
    "\n",
    "# full_var_dist = vb.StudentTDistribution(2, 40)\n",
    "# full_klvi = vb.KLqp(full_var_dist, model)\n",
    "# _, _, history, _ = vb.adagrad_optimize(\n",
    "#     10000, full_klvi, n_samples=20, learning_rate=.1, learning_rate_end=.001)"
   ]
  },
  {
   "cell_type": "code",
   "execution_count": null,
   "metadata": {},
   "outputs": [],
   "source": [
    "plot_history(full_klvi_history)"
   ]
  },
  {
   "cell_type": "code",
   "execution_count": null,
   "metadata": {},
   "outputs": [],
   "source": [
    "plot_approx_and_exact_contours(stan_log_density, t_var_family, full_klvi_var_param, xlim=[-6,0], ylim=[-1,6])"
   ]
  },
  {
   "cell_type": "code",
   "execution_count": null,
   "metadata": {},
   "outputs": [],
   "source": [
    "check_approx_accuracy(t_var_family, full_klvi_var_param, true_mean, true_cov, verbose=True);"
   ]
  },
  {
   "cell_type": "markdown",
   "metadata": {},
   "source": [
    "Bounds computed using `viabel` -- and the 2-divergence bound in particular -- confirm that the approximation is accurate. "
   ]
  },
  {
   "cell_type": "code",
   "execution_count": null,
   "metadata": {},
   "outputs": [],
   "source": [
    "model_param_samples, log_weights = \\\n",
    "    get_samples_and_log_weights(stan_log_density, t_var_family, full_klvi_var_param, 1000000)\n",
    "var_dist_cov = t_var_family.mean_and_cov(full_klvi_var_param)[1]\n",
    "full_klvi_results = all_bounds(log_weights, model_param_samples, q_var=var_dist_cov)"
   ]
  },
  {
   "cell_type": "code",
   "execution_count": null,
   "metadata": {},
   "outputs": [],
   "source": [
    "print_bounds(full_klvi_results)"
   ]
  },
  {
   "cell_type": "code",
   "execution_count": null,
   "metadata": {},
   "outputs": [],
   "source": []
  }
 ],
 "metadata": {
  "kernelspec": {
   "display_name": "Python (viabel_env)",
   "language": "python",
   "name": "viabel_env"
  },
  "language_info": {
   "codemirror_mode": {
    "name": "ipython",
    "version": 3
   },
   "file_extension": ".py",
   "mimetype": "text/x-python",
   "name": "python",
   "nbconvert_exporter": "python",
   "pygments_lexer": "ipython3",
   "version": "3.6.10"
  }
 },
 "nbformat": 4,
 "nbformat_minor": 2
}
