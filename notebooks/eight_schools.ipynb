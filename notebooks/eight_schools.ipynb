{
 "cells": [
  {
   "cell_type": "code",
   "execution_count": 17,
   "metadata": {},
   "outputs": [],
   "source": [
    "import sys, os\n",
    "sys.path.append('..')\n",
    "sys.path.append('../..')"
   ]
  },
  {
   "cell_type": "code",
   "execution_count": 18,
   "metadata": {},
   "outputs": [],
   "source": [
    "import autograd\n",
    "import pickle"
   ]
  },
  {
   "cell_type": "code",
   "execution_count": 19,
   "metadata": {},
   "outputs": [],
   "source": [
    "import pystan"
   ]
  },
  {
   "cell_type": "code",
   "execution_count": 20,
   "metadata": {},
   "outputs": [],
   "source": [
    "import autograd.numpy as np\n",
    "import autograd.numpy.random as npr\n",
    "import autograd.scipy.stats.norm as norm\n",
    "\n",
    "from viabel.vb import mean_field_t_variational_family, mean_field_gaussian_variational_family\n",
    "from viabel.vb import make_stan_log_density, adagrad_optimize\n",
    "from experiments import run_experiment\n",
    "\n",
    "import seaborn as sns\n",
    "\n",
    "sns.set_style('white')\n",
    "sns.set_context('notebook', font_scale=2, rc={'lines.linewidth': 2})"
   ]
  },
  {
   "cell_type": "code",
   "execution_count": 21,
   "metadata": {},
   "outputs": [],
   "source": [
    "from viabel.vb import  full_rank_gaussian_variational_family"
   ]
  },
  {
   "cell_type": "code",
   "execution_count": 22,
   "metadata": {},
   "outputs": [],
   "source": [
    "from scipy.stats import t \n",
    "from itertools import product\n",
    "from scipy.stats import t\n",
    "from experiments import *"
   ]
  },
  {
   "cell_type": "code",
   "execution_count": 23,
   "metadata": {},
   "outputs": [],
   "source": [
    "from viabel.vb import  rmsprop_IA_optimize_with_rhat, adam_IA_optimize_with_rhat"
   ]
  },
  {
   "cell_type": "code",
   "execution_count": 24,
   "metadata": {},
   "outputs": [],
   "source": [
    "os.makedirs('../figures', exist_ok=True)\n",
    "\n",
    "logtau_lim = [-2, 3.5]\n",
    "mu_lim = [-5, 15]\n",
    "theta1_lim = [-8, 22]\n",
    "\n",
    "skip = 1 # how much to thin samples; larger values make the plots faster but let accurate"
   ]
  },
  {
   "cell_type": "code",
   "execution_count": 25,
   "metadata": {},
   "outputs": [],
   "source": [
    "def plot_sample_contours(x_samples1, y_samples1, x_samples2, y_samples2, xlabel, ylabel, xlim, ylim, \n",
    "                    cmap1, cmap2, savepath=None, **kwargs):\n",
    "    sns.kdeplot(x_samples1, y_samples1, cmap=cmap1, **kwargs)\n",
    "    sns.kdeplot(x_samples2, y_samples2, cmap=cmap2, **kwargs)\n",
    "    plt.xlabel(xlabel)\n",
    "    plt.ylabel(ylabel)\n",
    "    plt.xlim(xlim)\n",
    "    plt.ylim(ylim)\n",
    "    plt.xticks([])\n",
    "    plt.yticks([])\n",
    "    if savepath is not None:\n",
    "        plt.savefig(savepath, bbox_inches='tight')\n",
    "    plt.show()\n",
    "    \n",
    "def plot_sample_and_density_contours(x_samples, y_samples, logdensity, xlabel, ylabel, xlim, ylim, \n",
    "                    cmap_samples, cmap_density, savepath=None, **kwargs):\n",
    "    sns.kdeplot(x_samples, y_samples, cmap=cmap_samples, **kwargs)\n",
    "    x = np.linspace(*xlim, 100)\n",
    "    y = np.linspace(*ylim, 100)\n",
    "    X, Y = np.meshgrid(x, y)\n",
    "    XY = np.concatenate([X[:,:,np.newaxis], Y[:,:,np.newaxis]], axis=2)\n",
    "    Z = np.exp(logdensity(XY))\n",
    "    plt.contour(X, Y, Z, cmap=cmap_density, linestyles='solid')\n",
    "    plt.xlabel(xlabel)\n",
    "    plt.ylabel(ylabel)\n",
    "    plt.xlim(xlim)\n",
    "    plt.ylim(ylim)\n",
    "    plt.xticks([])\n",
    "    plt.yticks([])\n",
    "    if savepath is not None:\n",
    "        plt.savefig(savepath, bbox_inches='tight')\n",
    "    plt.show()\n",
    "    \n",
    "def tranform_to_theta(ncp_samples):\n",
    "    ncp_samples_tranformed = ncp_samples.copy()\n",
    "    ncp_samples_tranformed[2:] = (ncp_samples_tranformed[0] \n",
    "                                  + np.exp(ncp_samples_tranformed[1]) * ncp_samples_tranformed[2:])\n",
    "    return ncp_samples_tranformed\n",
    "\n",
    "def get_ncp_approx_samples(var_family, opt_param, n_samples):\n",
    "    ncp_samples = var_family.sample(opt_param, n_samples).T\n",
    "    return ncp_samples, tranform_to_theta(ncp_samples)"
   ]
  },
  {
   "cell_type": "code",
   "execution_count": 26,
   "metadata": {},
   "outputs": [],
   "source": [
    "n_params_cp=10\n",
    "var_family_cp = mean_field_t_variational_family(n_params_cp, 40)\n",
    "gaussian_mf_var_family_cp = mean_field_gaussian_variational_family(n_params_cp)\n",
    "gaussian_fr_var_family_cp = full_rank_gaussian_variational_family(n_params_cp)\n"
   ]
  },
  {
   "cell_type": "code",
   "execution_count": 29,
   "metadata": {},
   "outputs": [
    {
     "data": {
      "text/plain": [
       "-49.05331868408115"
      ]
     },
     "execution_count": 29,
     "metadata": {},
     "output_type": "execute_result"
    }
   ],
   "source": [
    "init_param_cp_fr = np.concatenate([np.ones(n_params_cp), .5*np.ones(int(n_params_cp*(n_params_cp+1)/2))])\n",
    "gaussian_fr_var_family_cp.sample(init_param_cp_fr, n_samples=1)\n",
    "init_param_cp_mf = np.concatenate([np.ones(n_params_cp), .5*np.ones(n_params_cp)])\n",
    "a = gaussian_mf_var_family_cp.sample(init_param_cp_mf, n_samples=1)\n",
    "#gaussian_mf_var_family_cp.logdensity(a, init_param_cp_mf) \n",
    "gaussian_fr_var_family_cp.logdensity(a, init_param_cp_fr) "
   ]
  },
  {
   "cell_type": "code",
   "execution_count": null,
   "metadata": {},
   "outputs": [],
   "source": []
  },
  {
   "cell_type": "code",
   "execution_count": 30,
   "metadata": {},
   "outputs": [
    {
     "name": "stderr",
     "output_type": "stream",
     "text": [
      "INFO:pystan:COMPILING THE C++ CODE FOR MODEL eight_schools_cp_59a3daea0c9ce680a398ebb8168986d6 NOW.\n"
     ]
    }
   ],
   "source": [
    "try:\n",
    "    eight_schools_cp_stan_model = pickle.load(open('eight_schools_cp1.pkl', 'rb'))\n",
    "    #eight_schools_cp_stan_model = pystan.StanModel(file='eight_schools_cp.stan' ,\n",
    "    #                                           model_name='eight_schools_cp')\n",
    "except:\n",
    "    eight_schools_cp_stan_model = pystan.StanModel(file='eight_schools_cp.stan', model_name='eight_schools_cp')\n",
    "    with open('eight_schools_cp1.pkl', 'wb') as f:\n",
    "        pickle.dump(eight_schools_cp_stan_model, f)\n",
    "        "
   ]
  },
  {
   "cell_type": "code",
   "execution_count": 31,
   "metadata": {},
   "outputs": [
    {
     "name": "stderr",
     "output_type": "stream",
     "text": [
      "INFO:pystan:COMPILING THE C++ CODE FOR MODEL eight_schools_ncp_ae46705580739ef95b05e742166c14cd NOW.\n"
     ]
    }
   ],
   "source": [
    "try:\n",
    "    eight_schools_ncp_stan_model = pickle.load(open('eight_schools_ncp1.pkl', 'rb'))\n",
    "    #eight_schools_ncp_stan_model = pystan.StanModel(file='eight_schools_ncp.stan' ,\n",
    "    #                                           model_name='eight_schools_ncp')\n",
    "except:\n",
    "    eight_schools_ncp_stan_model = pystan.StanModel(file='eight_schools_ncp.stan', model_name='eight_schools_ncp')\n",
    "    with open('eight_schools_ncp1.pkl', 'wb') as f:\n",
    "        pickle.dump(eight_schools_ncp_stan_model, f)"
   ]
  },
  {
   "cell_type": "code",
   "execution_count": null,
   "metadata": {},
   "outputs": [],
   "source": [
    "# Data of the Eight Schools Model\n",
    "J = 8\n",
    "y = np.array([28.,  8., -3.,  7., -1.,  1., 18., 12.])\n",
    "sigma = np.array([15., 10., 16., 11.,  9., 11., 10., 18.])\n",
    "data = dict(J=J, y=y, sigma=sigma)"
   ]
  },
  {
   "cell_type": "code",
   "execution_count": null,
   "metadata": {},
   "outputs": [],
   "source": [
    "eight_schools_cp_fit = eight_schools_cp_stan_model.sampling(data=data, iter=11000, warmup=1000,\n",
    "                                                            control=dict(adapt_delta=.99))"
   ]
  },
  {
   "cell_type": "code",
   "execution_count": null,
   "metadata": {},
   "outputs": [],
   "source": [
    "eight_schools_ncp_fit = eight_schools_ncp_stan_model.sampling(data=data, iter=32000, warmup=2000, thin=3,\n",
    "                                                              control=dict(adapt_delta=.95))"
   ]
  },
  {
   "cell_type": "code",
   "execution_count": null,
   "metadata": {},
   "outputs": [],
   "source": [
    "eight_schools_ncp_fit"
   ]
  },
  {
   "cell_type": "code",
   "execution_count": null,
   "metadata": {},
   "outputs": [],
   "source": [
    "# number of parameters and parameter names in centered model\n",
    "n_params_cp = len(eight_schools_cp_fit.constrained_param_names())\n",
    "param_names_cp = ['mu', 'log_tau'] + eight_schools_cp_fit.flatnames[2:n_params_cp]\n",
    "\n",
    "# number of parameters and parameter names in non-centered model\n",
    "n_params_ncp = len(eight_schools_ncp_fit.constrained_param_names())\n",
    "param_names_ncp = ['mu', 'log_tau'] + eight_schools_ncp_fit.flatnames[2:n_params_ncp]\n",
    "param_names_ncp_transformed = ['mu', 'log_tau'] + eight_schools_ncp_fit.flatnames[n_params_ncp:]\n",
    "\n",
    "# the centered and tranformed non-centered parameters should be the same\n",
    "#np.testing.assert_array_equal(param_names_cp, param_names_ncp_transformed)\n",
    "\n",
    "# construct matrix of samples (both original and transformed) from non-centered model \n",
    "samples_ncp_df = eight_schools_ncp_fit.to_dataframe(pars=eight_schools_ncp_fit.flatnames)\n",
    "samples_ncp_df['log_tau'] = np.log(samples_ncp_df['tau'])\n",
    "samples_ncp = samples_ncp_df.loc[:,param_names_ncp].values.T\n",
    "samples_ncp_transformed = samples_ncp_df.loc[:,param_names_ncp_transformed].values.T\n",
    "\n",
    "# use samples from non-centered model for ground true mean and covariance\n",
    "true_mean_ncp = np.mean(samples_ncp, axis=1)\n",
    "true_cov_ncp = np.cov(samples_ncp)\n",
    "true_mean_ncp_tranformed = np.mean(samples_ncp_transformed, axis=1)\n",
    "true_cov_ncp_tranformed = np.cov(samples_ncp_transformed)"
   ]
  },
  {
   "cell_type": "code",
   "execution_count": null,
   "metadata": {},
   "outputs": [],
   "source": [
    "eight_schools_cp_log_density = make_stan_log_density(eight_schools_cp_fit)\n",
    "\n",
    "eight_schools_ncp_log_density = make_stan_log_density(eight_schools_ncp_fit)"
   ]
  },
  {
   "cell_type": "code",
   "execution_count": null,
   "metadata": {},
   "outputs": [],
   "source": [
    "\n",
    "var_family_cp = mean_field_t_variational_family(n_params_cp, 40)\n",
    "\n",
    "init_param_cp = np.concatenate([true_mean_ncp_tranformed, .5*np.log(np.diag(true_cov_ncp_tranformed))])\n",
    "klvi_cp, chivi_cp, klvi_cp_results, chivi_cp_results, other_klvi_cp_results, other_chivi_cp_results = \\\n",
    "    run_experiment(eight_schools_cp_log_density, var_family_cp, init_param_cp, \n",
    "                   true_mean_ncp_tranformed, true_cov_ncp_tranformed, \n",
    "                   learning_rate=.01, learning_rate_end=.001,\n",
    "                   n_iters=10000, bound_w2=2500000, verbose=True)"
   ]
  },
  {
   "cell_type": "code",
   "execution_count": null,
   "metadata": {},
   "outputs": [],
   "source": [
    "eight_schools_cp_log_density = make_stan_log_density(eight_schools_cp_fit)\n",
    "t_var_family_cp = mean_field_t_variational_family(n_params_cp, 40)\n",
    "mean_gauss_var_family_cp = mean_field_gaussian_variational_family(n_params_cp)\n",
    "init_param_cp2 = np.concatenate([true_mean_ncp_tranformed, .5*np.log(np.diag(true_cov_ncp_tranformed))])\n",
    "k=10\n",
    "klvi_objective_and_grad = black_box_klvi(var_family_cp, eight_schools_cp_log_density, 100)\n",
    "klvi_objective_and_grad_gaussian = black_box_klvi(mean_gauss_var_family_cp, eight_schools_ncp_log_density, 100)"
   ]
  },
  {
   "cell_type": "code",
   "execution_count": null,
   "metadata": {},
   "outputs": [],
   "source": [
    "klvi_var_param_rms, avg_klvi_var_param_list_rms,_, klvi_history_rms, _, op_log_rms = \\\n",
    "    rmsprop_IA_optimize_with_rhat(30000, klvi_objective_and_grad_gaussian, init_param_cp2, k, learning_rate=.01, rhat_window=1000, n_optimisers=2)"
   ]
  },
  {
   "cell_type": "code",
   "execution_count": null,
   "metadata": {},
   "outputs": [],
   "source": [
    "gauss_klvi_var_param_rms, gauss_avg_klvi_var_param_list_rms,_, gauss_klvi_history_rms, _, gauss_op_log_rms = \\\n",
    "    rmsprop_IA_optimize_with_rhat(30000, klvi_objective_and_grad, init_param_cp2, k, learning_rate=.01, rhat_window=1000, n_optimisers=2)"
   ]
  },
  {
   "cell_type": "code",
   "execution_count": null,
   "metadata": {},
   "outputs": [],
   "source": [
    "plt.plot(klvi_history_rms[25000:30000])"
   ]
  },
  {
   "cell_type": "code",
   "execution_count": null,
   "metadata": {},
   "outputs": [],
   "source": [
    "print(op_log_rms['r_hat_mean'])\n",
    "\n",
    "print(op_log_rms['r_hat_sigma'])\n"
   ]
  },
  {
   "cell_type": "code",
   "execution_count": null,
   "metadata": {},
   "outputs": [],
   "source": [
    "def cp_results_plot(other_results, method):\n",
    "    if method not in ['klvi', 'chivi']:\n",
    "        print('invalid method \"{}\"'.format(method))\n",
    "        return\n",
    "    cp_opt_param = other_results['opt_param']\n",
    "    cp_mean, cp_log_scale = cp_opt_param[:n_params_cp], cp_opt_param[n_params_cp:]\n",
    "    cp_log_density = lambda x: np.sum(t.logpdf(x, 40, cp_mean[np.newaxis,np.newaxis,1:3], \n",
    "                                               np.exp(cp_log_scale[np.newaxis,np.newaxis,1:3])), axis=-1)\n",
    "    cmap2 = 'Reds' if method == 'klvi' else 'Blues'\n",
    "    plot_sample_and_density_contours(\n",
    "        np.log(eight_schools_ncp_fit['tau'][::skip]), eight_schools_ncp_fit['theta[1]'][::skip],\n",
    "        cp_log_density, r'$\\log(\\tau)$', r'$\\theta_1$', \n",
    "        logtau_lim, theta1_lim, 'Greys', cmap2,\n",
    "        '../figures/8-schools-cp-log-tau-vs-theta1-{}.pdf'.format(method))\n",
    "\n",
    "cp_results_plot(other_klvi_cp_results, 'klvi')\n",
    "cp_results_plot(other_chivi_cp_results, 'chivi')"
   ]
  },
  {
   "cell_type": "code",
   "execution_count": null,
   "metadata": {},
   "outputs": [],
   "source": []
  }
 ],
 "metadata": {
  "kernelspec": {
   "display_name": "Python (viabel_env)",
   "language": "python",
   "name": "viabel_env"
  },
  "language_info": {
   "codemirror_mode": {
    "name": "ipython",
    "version": 3
   },
   "file_extension": ".py",
   "mimetype": "text/x-python",
   "name": "python",
   "nbconvert_exporter": "python",
   "pygments_lexer": "ipython3",
   "version": "3.6.10"
  }
 },
 "nbformat": 4,
 "nbformat_minor": 2
}
